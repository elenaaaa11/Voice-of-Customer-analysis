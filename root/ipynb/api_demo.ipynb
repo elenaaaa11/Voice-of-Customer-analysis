{
 "cells": [
  {
   "cell_type": "code",
   "execution_count": 1,
   "metadata": {},
   "outputs": [],
   "source": [
    "import os\n",
    "import pandas as pd"
   ]
  },
  {
   "cell_type": "code",
   "execution_count": 2,
   "metadata": {},
   "outputs": [
    {
     "data": {
      "text/plain": [
       "['api_demo.ipynb', 'sentiment_analysis_demo.ipynb', 'topic_modelling.ipynb']"
      ]
     },
     "execution_count": 2,
     "metadata": {},
     "output_type": "execute_result"
    }
   ],
   "source": [
    "os.listdir()"
   ]
  },
  {
   "cell_type": "code",
   "execution_count": 3,
   "metadata": {},
   "outputs": [],
   "source": [
    "localhost = \"http://localhost:5000/api\" # Running locally\n",
    "os.chdir(\"../../\")"
   ]
  },
  {
   "cell_type": "code",
   "execution_count": 4,
   "metadata": {},
   "outputs": [],
   "source": [
    "filename = \"test_sa_input2.csv\"\n",
    "filepath = r\"./root/unit_testing/testcase/input\""
   ]
  },
  {
   "cell_type": "code",
   "execution_count": 5,
   "metadata": {},
   "outputs": [],
   "source": [
    "from root.src.utils import predict_file, request_raw_data, request_sa_pred_data, request_tm_pred_data"
   ]
  },
  {
   "attachments": {},
   "cell_type": "markdown",
   "metadata": {},
   "source": [
    "### Predict"
   ]
  },
  {
   "attachments": {},
   "cell_type": "markdown",
   "metadata": {},
   "source": [
    "When predict_file(URL, File_Directory, Filename) is run, the model will make the predictions and predictions.zip (containing both the SA_PRED.csv and TM_PRED.csv) will be appear in your current directory"
   ]
  },
  {
   "cell_type": "code",
   "execution_count": 6,
   "metadata": {},
   "outputs": [],
   "source": [
    "predict_file(localhost, filepath, filename)"
   ]
  },
  {
   "cell_type": "code",
   "execution_count": 7,
   "metadata": {},
   "outputs": [],
   "source": [
    "file_id = \"sample\""
   ]
  },
  {
   "attachments": {},
   "cell_type": "markdown",
   "metadata": {},
   "source": [
    "Raw Data"
   ]
  },
  {
   "cell_type": "code",
   "execution_count": 8,
   "metadata": {},
   "outputs": [
    {
     "data": {
      "text/html": [
       "<div>\n",
       "<style scoped>\n",
       "    .dataframe tbody tr th:only-of-type {\n",
       "        vertical-align: middle;\n",
       "    }\n",
       "\n",
       "    .dataframe tbody tr th {\n",
       "        vertical-align: top;\n",
       "    }\n",
       "\n",
       "    .dataframe thead th {\n",
       "        text-align: right;\n",
       "    }\n",
       "</style>\n",
       "<table border=\"1\" class=\"dataframe\">\n",
       "  <thead>\n",
       "    <tr style=\"text-align: right;\">\n",
       "      <th></th>\n",
       "      <th>Time</th>\n",
       "      <th>Text</th>\n",
       "    </tr>\n",
       "  </thead>\n",
       "  <tbody>\n",
       "    <tr>\n",
       "      <th>0</th>\n",
       "      <td>10/4/2023</td>\n",
       "      <td>I recently purchased this pet bed for my dog a...</td>\n",
       "    </tr>\n",
       "    <tr>\n",
       "      <th>1</th>\n",
       "      <td>6/4/2023</td>\n",
       "      <td>I have to say I was a bit skeptical about this...</td>\n",
       "    </tr>\n",
       "    <tr>\n",
       "      <th>2</th>\n",
       "      <td>2/4/2023</td>\n",
       "      <td>I'm really impressed with this pet food. It's ...</td>\n",
       "    </tr>\n",
       "    <tr>\n",
       "      <th>3</th>\n",
       "      <td>1/4/2023</td>\n",
       "      <td>I'm really happy with this pet carrier. It's s...</td>\n",
       "    </tr>\n",
       "    <tr>\n",
       "      <th>4</th>\n",
       "      <td>4/2/2023</td>\n",
       "      <td>I love this pet leash! It's really well-made a...</td>\n",
       "    </tr>\n",
       "  </tbody>\n",
       "</table>\n",
       "</div>"
      ],
      "text/plain": [
       "        Time                                               Text\n",
       "0  10/4/2023  I recently purchased this pet bed for my dog a...\n",
       "1   6/4/2023  I have to say I was a bit skeptical about this...\n",
       "2   2/4/2023  I'm really impressed with this pet food. It's ...\n",
       "3   1/4/2023  I'm really happy with this pet carrier. It's s...\n",
       "4   4/2/2023  I love this pet leash! It's really well-made a..."
      ]
     },
     "execution_count": 8,
     "metadata": {},
     "output_type": "execute_result"
    }
   ],
   "source": [
    "json_raw = request_raw_data(localhost, file_id)\n",
    "raw_df = pd.read_json(json_raw)\n",
    "raw_df.head()"
   ]
  },
  {
   "attachments": {},
   "cell_type": "markdown",
   "metadata": {},
   "source": [
    "SA_PRED Data"
   ]
  },
  {
   "cell_type": "code",
   "execution_count": 9,
   "metadata": {},
   "outputs": [
    {
     "data": {
      "text/html": [
       "<div>\n",
       "<style scoped>\n",
       "    .dataframe tbody tr th:only-of-type {\n",
       "        vertical-align: middle;\n",
       "    }\n",
       "\n",
       "    .dataframe tbody tr th {\n",
       "        vertical-align: top;\n",
       "    }\n",
       "\n",
       "    .dataframe thead th {\n",
       "        text-align: right;\n",
       "    }\n",
       "</style>\n",
       "<table border=\"1\" class=\"dataframe\">\n",
       "  <thead>\n",
       "    <tr style=\"text-align: right;\">\n",
       "      <th></th>\n",
       "      <th>flair_sentiment</th>\n",
       "      <th>flair_prob</th>\n",
       "      <th>svm_sentiment</th>\n",
       "      <th>svm_prob</th>\n",
       "      <th>avg_prob</th>\n",
       "      <th>final_sentiment</th>\n",
       "      <th>Sentiment</th>\n",
       "      <th>Time</th>\n",
       "      <th>Text</th>\n",
       "      <th>processed_text</th>\n",
       "    </tr>\n",
       "  </thead>\n",
       "  <tbody>\n",
       "    <tr>\n",
       "      <th>0</th>\n",
       "      <td>1</td>\n",
       "      <td>0.996893</td>\n",
       "      <td>1</td>\n",
       "      <td>0.416969</td>\n",
       "      <td>0.706931</td>\n",
       "      <td>1</td>\n",
       "      <td>positive</td>\n",
       "      <td>10/4/2023</td>\n",
       "      <td>I recently purchased this pet bed for my dog a...</td>\n",
       "      <td>['recently', 'purchased', 'pet', 'bed', 'dog',...</td>\n",
       "    </tr>\n",
       "    <tr>\n",
       "      <th>1</th>\n",
       "      <td>1</td>\n",
       "      <td>0.999183</td>\n",
       "      <td>0</td>\n",
       "      <td>0.416969</td>\n",
       "      <td>0.708076</td>\n",
       "      <td>1</td>\n",
       "      <td>positive</td>\n",
       "      <td>6/4/2023</td>\n",
       "      <td>I have to say I was a bit skeptical about this...</td>\n",
       "      <td>['bit', 'skeptical', 'pet', 'toy', 'quickly', ...</td>\n",
       "    </tr>\n",
       "    <tr>\n",
       "      <th>2</th>\n",
       "      <td>1</td>\n",
       "      <td>0.999307</td>\n",
       "      <td>0</td>\n",
       "      <td>0.416969</td>\n",
       "      <td>0.708138</td>\n",
       "      <td>1</td>\n",
       "      <td>positive</td>\n",
       "      <td>2/4/2023</td>\n",
       "      <td>I'm really impressed with this pet food. It's ...</td>\n",
       "      <td>['impressed', 'pet', 'food', 'high', 'quality'...</td>\n",
       "    </tr>\n",
       "    <tr>\n",
       "      <th>3</th>\n",
       "      <td>1</td>\n",
       "      <td>0.994902</td>\n",
       "      <td>1</td>\n",
       "      <td>0.416969</td>\n",
       "      <td>0.705936</td>\n",
       "      <td>1</td>\n",
       "      <td>positive</td>\n",
       "      <td>1/4/2023</td>\n",
       "      <td>I'm really happy with this pet carrier. It's s...</td>\n",
       "      <td>['happy', 'pet', 'carrier', 'spacious', 'comfo...</td>\n",
       "    </tr>\n",
       "    <tr>\n",
       "      <th>4</th>\n",
       "      <td>1</td>\n",
       "      <td>0.999333</td>\n",
       "      <td>0</td>\n",
       "      <td>0.416969</td>\n",
       "      <td>0.708151</td>\n",
       "      <td>1</td>\n",
       "      <td>positive</td>\n",
       "      <td>4/2/2023</td>\n",
       "      <td>I love this pet leash! It's really well-made a...</td>\n",
       "      <td>['love', 'pet', 'leash', 'durable', 'reflectiv...</td>\n",
       "    </tr>\n",
       "  </tbody>\n",
       "</table>\n",
       "</div>"
      ],
      "text/plain": [
       "   flair_sentiment  flair_prob  svm_sentiment  svm_prob  avg_prob  \\\n",
       "0                1    0.996893              1  0.416969  0.706931   \n",
       "1                1    0.999183              0  0.416969  0.708076   \n",
       "2                1    0.999307              0  0.416969  0.708138   \n",
       "3                1    0.994902              1  0.416969  0.705936   \n",
       "4                1    0.999333              0  0.416969  0.708151   \n",
       "\n",
       "   final_sentiment Sentiment       Time  \\\n",
       "0                1  positive  10/4/2023   \n",
       "1                1  positive   6/4/2023   \n",
       "2                1  positive   2/4/2023   \n",
       "3                1  positive   1/4/2023   \n",
       "4                1  positive   4/2/2023   \n",
       "\n",
       "                                                Text  \\\n",
       "0  I recently purchased this pet bed for my dog a...   \n",
       "1  I have to say I was a bit skeptical about this...   \n",
       "2  I'm really impressed with this pet food. It's ...   \n",
       "3  I'm really happy with this pet carrier. It's s...   \n",
       "4  I love this pet leash! It's really well-made a...   \n",
       "\n",
       "                                      processed_text  \n",
       "0  ['recently', 'purchased', 'pet', 'bed', 'dog',...  \n",
       "1  ['bit', 'skeptical', 'pet', 'toy', 'quickly', ...  \n",
       "2  ['impressed', 'pet', 'food', 'high', 'quality'...  \n",
       "3  ['happy', 'pet', 'carrier', 'spacious', 'comfo...  \n",
       "4  ['love', 'pet', 'leash', 'durable', 'reflectiv...  "
      ]
     },
     "execution_count": 9,
     "metadata": {},
     "output_type": "execute_result"
    }
   ],
   "source": [
    "json_sapred = request_sa_pred_data(localhost, file_id)\n",
    "sapred_df = pd.read_json(json_sapred)\n",
    "sapred_df.head()"
   ]
  },
  {
   "attachments": {},
   "cell_type": "markdown",
   "metadata": {},
   "source": [
    "TM_PRED Data"
   ]
  },
  {
   "cell_type": "code",
   "execution_count": 10,
   "metadata": {},
   "outputs": [
    {
     "data": {
      "text/html": [
       "<div>\n",
       "<style scoped>\n",
       "    .dataframe tbody tr th:only-of-type {\n",
       "        vertical-align: middle;\n",
       "    }\n",
       "\n",
       "    .dataframe tbody tr th {\n",
       "        vertical-align: top;\n",
       "    }\n",
       "\n",
       "    .dataframe thead th {\n",
       "        text-align: right;\n",
       "    }\n",
       "</style>\n",
       "<table border=\"1\" class=\"dataframe\">\n",
       "  <thead>\n",
       "    <tr style=\"text-align: right;\">\n",
       "      <th></th>\n",
       "      <th>flair_sentiment</th>\n",
       "      <th>flair_prob</th>\n",
       "      <th>svm_sentiment</th>\n",
       "      <th>svm_prob</th>\n",
       "      <th>avg_prob</th>\n",
       "      <th>final_sentiment</th>\n",
       "      <th>Sentiment</th>\n",
       "      <th>Time</th>\n",
       "      <th>Text</th>\n",
       "      <th>Predicted Topic</th>\n",
       "      <th>Main Topic</th>\n",
       "    </tr>\n",
       "  </thead>\n",
       "  <tbody>\n",
       "    <tr>\n",
       "      <th>0</th>\n",
       "      <td>1</td>\n",
       "      <td>0.996893</td>\n",
       "      <td>1</td>\n",
       "      <td>0.416969</td>\n",
       "      <td>0.706931</td>\n",
       "      <td>1</td>\n",
       "      <td>positive</td>\n",
       "      <td>10/4/2023</td>\n",
       "      <td>I recently purchased this pet bed for my dog a...</td>\n",
       "      <td>[('Others', -0.079), ('Healthy (Sugar and Glut...</td>\n",
       "      <td>Dog food and Prices</td>\n",
       "    </tr>\n",
       "    <tr>\n",
       "      <th>1</th>\n",
       "      <td>1</td>\n",
       "      <td>0.999183</td>\n",
       "      <td>0</td>\n",
       "      <td>0.416969</td>\n",
       "      <td>0.708076</td>\n",
       "      <td>1</td>\n",
       "      <td>positive</td>\n",
       "      <td>6/4/2023</td>\n",
       "      <td>I have to say I was a bit skeptical about this...</td>\n",
       "      <td>[('Others', -0.071), ('Healthy (Sugar and Glut...</td>\n",
       "      <td>Dog food and Prices</td>\n",
       "    </tr>\n",
       "    <tr>\n",
       "      <th>2</th>\n",
       "      <td>1</td>\n",
       "      <td>0.999307</td>\n",
       "      <td>0</td>\n",
       "      <td>0.416969</td>\n",
       "      <td>0.708138</td>\n",
       "      <td>1</td>\n",
       "      <td>positive</td>\n",
       "      <td>2/4/2023</td>\n",
       "      <td>I'm really impressed with this pet food. It's ...</td>\n",
       "      <td>[('Others', -0.12), ('Healthy (Sugar and Glute...</td>\n",
       "      <td>Dog food and Prices</td>\n",
       "    </tr>\n",
       "    <tr>\n",
       "      <th>3</th>\n",
       "      <td>1</td>\n",
       "      <td>0.994902</td>\n",
       "      <td>1</td>\n",
       "      <td>0.416969</td>\n",
       "      <td>0.705936</td>\n",
       "      <td>1</td>\n",
       "      <td>positive</td>\n",
       "      <td>1/4/2023</td>\n",
       "      <td>I'm really happy with this pet carrier. It's s...</td>\n",
       "      <td>[('Others', -0.088), ('Healthy (Sugar and Glut...</td>\n",
       "      <td>Dog food and Prices</td>\n",
       "    </tr>\n",
       "    <tr>\n",
       "      <th>4</th>\n",
       "      <td>1</td>\n",
       "      <td>0.999333</td>\n",
       "      <td>0</td>\n",
       "      <td>0.416969</td>\n",
       "      <td>0.708151</td>\n",
       "      <td>1</td>\n",
       "      <td>positive</td>\n",
       "      <td>4/2/2023</td>\n",
       "      <td>I love this pet leash! It's really well-made a...</td>\n",
       "      <td>[('Others', -0.092), ('Healthy (Sugar and Glut...</td>\n",
       "      <td>Healthy (Sugar and Gluten Free)</td>\n",
       "    </tr>\n",
       "  </tbody>\n",
       "</table>\n",
       "</div>"
      ],
      "text/plain": [
       "   flair_sentiment  flair_prob  svm_sentiment  svm_prob  avg_prob  \\\n",
       "0                1    0.996893              1  0.416969  0.706931   \n",
       "1                1    0.999183              0  0.416969  0.708076   \n",
       "2                1    0.999307              0  0.416969  0.708138   \n",
       "3                1    0.994902              1  0.416969  0.705936   \n",
       "4                1    0.999333              0  0.416969  0.708151   \n",
       "\n",
       "   final_sentiment Sentiment       Time  \\\n",
       "0                1  positive  10/4/2023   \n",
       "1                1  positive   6/4/2023   \n",
       "2                1  positive   2/4/2023   \n",
       "3                1  positive   1/4/2023   \n",
       "4                1  positive   4/2/2023   \n",
       "\n",
       "                                                Text  \\\n",
       "0  I recently purchased this pet bed for my dog a...   \n",
       "1  I have to say I was a bit skeptical about this...   \n",
       "2  I'm really impressed with this pet food. It's ...   \n",
       "3  I'm really happy with this pet carrier. It's s...   \n",
       "4  I love this pet leash! It's really well-made a...   \n",
       "\n",
       "                                     Predicted Topic  \\\n",
       "0  [('Others', -0.079), ('Healthy (Sugar and Glut...   \n",
       "1  [('Others', -0.071), ('Healthy (Sugar and Glut...   \n",
       "2  [('Others', -0.12), ('Healthy (Sugar and Glute...   \n",
       "3  [('Others', -0.088), ('Healthy (Sugar and Glut...   \n",
       "4  [('Others', -0.092), ('Healthy (Sugar and Glut...   \n",
       "\n",
       "                        Main Topic  \n",
       "0              Dog food and Prices  \n",
       "1              Dog food and Prices  \n",
       "2              Dog food and Prices  \n",
       "3              Dog food and Prices  \n",
       "4  Healthy (Sugar and Gluten Free)  "
      ]
     },
     "execution_count": 10,
     "metadata": {},
     "output_type": "execute_result"
    }
   ],
   "source": [
    "json_tmpred = request_tm_pred_data(localhost, file_id)\n",
    "tmpred_df = pd.read_json(json_tmpred)\n",
    "tmpred_df.head()"
   ]
  }
 ],
 "metadata": {
  "kernelspec": {
   "display_name": ".venv",
   "language": "python",
   "name": "python3"
  },
  "language_info": {
   "codemirror_mode": {
    "name": "ipython",
    "version": 3
   },
   "file_extension": ".py",
   "mimetype": "text/x-python",
   "name": "python",
   "nbconvert_exporter": "python",
   "pygments_lexer": "ipython3",
   "version": "3.7.4"
  },
  "orig_nbformat": 4
 },
 "nbformat": 4,
 "nbformat_minor": 2
}
