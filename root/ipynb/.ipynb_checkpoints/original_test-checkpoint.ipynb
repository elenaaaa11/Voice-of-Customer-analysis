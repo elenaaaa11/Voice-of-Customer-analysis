{
 "cells": [
  {
   "cell_type": "code",
   "execution_count": 1,
   "id": "bf430a78-f689-408a-8960-291156012ec8",
   "metadata": {},
   "outputs": [],
   "source": [
    "from src.topic_modelling.tm import * #evaluate_topic_models, build_top_model\n",
    "from gensim import corpora\n",
    "from tqdm import tqdm\n",
    "from gensim.models import CoherenceModel\n",
    "from gensim.models import LdaMulticore\n",
    "import pandas as pd"
   ]
  },
  {
   "cell_type": "code",
   "execution_count": null,
   "id": "21f801f9-51df-4836-a9cd-fd47020ccc02",
   "metadata": {},
   "outputs": [],
   "source": []
  },
  {
   "cell_type": "code",
   "execution_count": 2,
   "id": "d4d27ba4-24f6-483f-aa44-f69472b6b449",
   "metadata": {},
   "outputs": [],
   "source": [
    "pos_dict = corpora.Dictionary.load('src/preprocessing/pos_dict.dict')"
   ]
  },
  {
   "cell_type": "code",
   "execution_count": 3,
   "id": "0ac3c076-6eef-40cd-ac0b-16847ba3728f",
   "metadata": {},
   "outputs": [],
   "source": [
    "bow_corpus = corpora.MmCorpus('src/preprocessing/pos_corpus.mm')"
   ]
  },
  {
   "cell_type": "code",
   "execution_count": 4,
   "id": "83a0fb91-1bcf-4ae9-aaa2-cb382625e32f",
   "metadata": {},
   "outputs": [],
   "source": [
    "tfidf_corpus = corpora.MmCorpus('src/preprocessing/pos_tfidf_corpus.mm')"
   ]
  },
  {
   "cell_type": "code",
   "execution_count": 5,
   "id": "9a9f1215-38ab-456f-9e9a-41c32ae87c52",
   "metadata": {},
   "outputs": [],
   "source": [
    "lemma_text = [[pos_dict[bow[0]] for bow in sent] for sent in bow_corpus]"
   ]
  },
  {
   "cell_type": "code",
   "execution_count": 20,
   "id": "39bfe4c7-ed03-40ff-a875-dac377e3e2f9",
   "metadata": {},
   "outputs": [],
   "source": [
    "model_name = ['nmf', 'lda','lsa']\n",
    "corpuses = {\n",
    "    'bow': bow_corpus,\n",
    "    'tfidf': tfidf_corpus\n",
    "}\n",
    "num_topics = list(range(2,14))"
   ]
  },
  {
   "cell_type": "code",
   "execution_count": 21,
   "id": "33b376d9-3106-4ae7-a9bd-413f43e61ce2",
   "metadata": {
    "scrolled": true,
    "tags": []
   },
   "outputs": [
    {
     "name": "stderr",
     "output_type": "stream",
     "text": [
      "100%|███████████████████████████████████████████| 72/72 [05:09<00:00,  4.30s/it]"
     ]
    },
    {
     "name": "stdout",
     "output_type": "stream",
     "text": [
      "   model name corpus  num topic     score\n",
      "0         nmf    bow          2  0.387802\n",
      "1         nmf    bow          3  0.440823\n",
      "2         nmf    bow          4  0.415742\n",
      "3         nmf    bow          5  0.411234\n",
      "4         nmf    bow          6  0.464461\n",
      "..        ...    ...        ...       ...\n",
      "67        lsa  tfidf          9  0.436939\n",
      "68        lsa  tfidf         10  0.421536\n",
      "69        lsa  tfidf         11  0.407150\n",
      "70        lsa  tfidf         12  0.417696\n",
      "71        lsa  tfidf         13  0.400788\n",
      "\n",
      "[72 rows x 4 columns]\n"
     ]
    },
    {
     "name": "stderr",
     "output_type": "stream",
     "text": [
      "\n"
     ]
    }
   ],
   "source": [
    "# evaluate different models\n",
    "pos_models = evaluate_topic_models(model_name, corpuses, num_topics, pos_dict, lemma_text)\n",
    "print(pos_models)"
   ]
  },
  {
   "cell_type": "code",
   "execution_count": null,
   "id": "8a72f742-7c6e-44af-ac11-827c0184feb6",
   "metadata": {
    "scrolled": true,
    "tags": []
   },
   "outputs": [],
   "source": []
  },
  {
   "cell_type": "code",
   "execution_count": 22,
   "id": "576efe62-0288-40c7-b05f-9e05b2a7d24f",
   "metadata": {
    "scrolled": true,
    "tags": []
   },
   "outputs": [
    {
     "data": {
      "text/html": [
       "<div>\n",
       "<style scoped>\n",
       "    .dataframe tbody tr th:only-of-type {\n",
       "        vertical-align: middle;\n",
       "    }\n",
       "\n",
       "    .dataframe tbody tr th {\n",
       "        vertical-align: top;\n",
       "    }\n",
       "\n",
       "    .dataframe thead th {\n",
       "        text-align: right;\n",
       "    }\n",
       "</style>\n",
       "<table border=\"1\" class=\"dataframe\">\n",
       "  <thead>\n",
       "    <tr style=\"text-align: right;\">\n",
       "      <th></th>\n",
       "      <th>model name</th>\n",
       "      <th>corpus</th>\n",
       "      <th>num topic</th>\n",
       "      <th>score</th>\n",
       "    </tr>\n",
       "  </thead>\n",
       "  <tbody>\n",
       "    <tr>\n",
       "      <th>48</th>\n",
       "      <td>lsa</td>\n",
       "      <td>bow</td>\n",
       "      <td>2</td>\n",
       "      <td>0.552462</td>\n",
       "    </tr>\n",
       "    <tr>\n",
       "      <th>9</th>\n",
       "      <td>nmf</td>\n",
       "      <td>bow</td>\n",
       "      <td>11</td>\n",
       "      <td>0.509730</td>\n",
       "    </tr>\n",
       "    <tr>\n",
       "      <th>62</th>\n",
       "      <td>lsa</td>\n",
       "      <td>tfidf</td>\n",
       "      <td>4</td>\n",
       "      <td>0.492091</td>\n",
       "    </tr>\n",
       "    <tr>\n",
       "      <th>61</th>\n",
       "      <td>lsa</td>\n",
       "      <td>tfidf</td>\n",
       "      <td>3</td>\n",
       "      <td>0.481834</td>\n",
       "    </tr>\n",
       "    <tr>\n",
       "      <th>10</th>\n",
       "      <td>nmf</td>\n",
       "      <td>bow</td>\n",
       "      <td>12</td>\n",
       "      <td>0.481468</td>\n",
       "    </tr>\n",
       "    <tr>\n",
       "      <th>...</th>\n",
       "      <td>...</td>\n",
       "      <td>...</td>\n",
       "      <td>...</td>\n",
       "      <td>...</td>\n",
       "    </tr>\n",
       "    <tr>\n",
       "      <th>13</th>\n",
       "      <td>nmf</td>\n",
       "      <td>tfidf</td>\n",
       "      <td>3</td>\n",
       "      <td>0.355434</td>\n",
       "    </tr>\n",
       "    <tr>\n",
       "      <th>34</th>\n",
       "      <td>lda</td>\n",
       "      <td>bow</td>\n",
       "      <td>12</td>\n",
       "      <td>0.352375</td>\n",
       "    </tr>\n",
       "    <tr>\n",
       "      <th>32</th>\n",
       "      <td>lda</td>\n",
       "      <td>bow</td>\n",
       "      <td>10</td>\n",
       "      <td>0.349128</td>\n",
       "    </tr>\n",
       "    <tr>\n",
       "      <th>36</th>\n",
       "      <td>lda</td>\n",
       "      <td>tfidf</td>\n",
       "      <td>2</td>\n",
       "      <td>0.342943</td>\n",
       "    </tr>\n",
       "    <tr>\n",
       "      <th>35</th>\n",
       "      <td>lda</td>\n",
       "      <td>bow</td>\n",
       "      <td>13</td>\n",
       "      <td>0.342456</td>\n",
       "    </tr>\n",
       "  </tbody>\n",
       "</table>\n",
       "<p>72 rows × 4 columns</p>\n",
       "</div>"
      ],
      "text/plain": [
       "   model name corpus  num topic     score\n",
       "48        lsa    bow          2  0.552462\n",
       "9         nmf    bow         11  0.509730\n",
       "62        lsa  tfidf          4  0.492091\n",
       "61        lsa  tfidf          3  0.481834\n",
       "10        nmf    bow         12  0.481468\n",
       "..        ...    ...        ...       ...\n",
       "13        nmf  tfidf          3  0.355434\n",
       "34        lda    bow         12  0.352375\n",
       "32        lda    bow         10  0.349128\n",
       "36        lda  tfidf          2  0.342943\n",
       "35        lda    bow         13  0.342456\n",
       "\n",
       "[72 rows x 4 columns]"
      ]
     },
     "execution_count": 22,
     "metadata": {},
     "output_type": "execute_result"
    }
   ],
   "source": [
    "pos_models.sort_values(by = 'score', ascending=False)"
   ]
  },
  {
   "cell_type": "code",
   "execution_count": 23,
   "id": "6634b84d-ca65-4d76-8560-57811bcec85e",
   "metadata": {},
   "outputs": [],
   "source": [
    "top_pos_model = build_top_model(pos_models, corpuses, pos_dict)\n"
   ]
  },
  {
   "cell_type": "code",
   "execution_count": 24,
   "id": "dfb92310-4f4f-4620-8da0-fd7e78e55170",
   "metadata": {},
   "outputs": [
    {
     "data": {
      "text/plain": [
       "<gensim.models.lsimodel.LsiModel at 0x7fa9e0a71100>"
      ]
     },
     "execution_count": 24,
     "metadata": {},
     "output_type": "execute_result"
    }
   ],
   "source": [
    "top_pos_model"
   ]
  },
  {
   "cell_type": "code",
   "execution_count": 25,
   "id": "3db7118a-1263-44ab-9b68-4efcbd66c71e",
   "metadata": {
    "scrolled": true,
    "tags": []
   },
   "outputs": [
    {
     "data": {
      "text/plain": [
       "[(0,\n",
       "  '0.416*\"taste\" + 0.342*\"like\" + 0.271*\"good\" + 0.259*\"great\" + 0.235*\"flavor\" + 0.194*\"coffee\" + 0.180*\"product\" + 0.150*\"love\" + 0.144*\"tea\" + 0.136*\"food\"'),\n",
       " (1,\n",
       "  '0.673*\"coffee\" + -0.399*\"food\" + 0.221*\"cup\" + -0.209*\"cat\" + 0.209*\"tea\" + -0.162*\"product\" + 0.117*\"taste\" + -0.116*\"dog\" + -0.107*\"eat\" + 0.103*\"drink\"')]"
      ]
     },
     "execution_count": 25,
     "metadata": {},
     "output_type": "execute_result"
    }
   ],
   "source": [
    "top_pos_model.show_topics(num_words=10)"
   ]
  },
  {
   "cell_type": "code",
   "execution_count": 26,
   "id": "69ce2365-cd38-456b-bab7-798693f4a656",
   "metadata": {},
   "outputs": [],
   "source": [
    "top_pos_model.save('models/tm_pos_model')"
   ]
  },
  {
   "cell_type": "code",
   "execution_count": null,
   "id": "b7b45fad-6714-4a5b-b033-234f2488531a",
   "metadata": {},
   "outputs": [],
   "source": []
  },
  {
   "cell_type": "code",
   "execution_count": null,
   "id": "33c3a253-dd2a-4de9-b98d-d73d789d94f0",
   "metadata": {},
   "outputs": [],
   "source": []
  },
  {
   "cell_type": "code",
   "execution_count": null,
   "id": "45bd7751-50eb-41d5-a17b-6e081a7af736",
   "metadata": {},
   "outputs": [],
   "source": []
  },
  {
   "cell_type": "code",
   "execution_count": null,
   "id": "d8f5a2ff-7a59-4b8a-8e2b-3bac96958fe2",
   "metadata": {},
   "outputs": [],
   "source": []
  },
  {
   "cell_type": "code",
   "execution_count": null,
   "id": "f7bdf669-2f9a-4a63-b370-740eb78bf177",
   "metadata": {},
   "outputs": [],
   "source": []
  },
  {
   "cell_type": "code",
   "execution_count": null,
   "id": "e6abb6b1-d502-4a65-8ff6-35b383456336",
   "metadata": {},
   "outputs": [],
   "source": []
  },
  {
   "cell_type": "code",
   "execution_count": null,
   "id": "9aceeaaa-cb73-4b72-bd60-afff105fe768",
   "metadata": {},
   "outputs": [],
   "source": []
  },
  {
   "cell_type": "code",
   "execution_count": null,
   "id": "d8373afd-53fd-44dc-9fb4-c717a99f5f42",
   "metadata": {},
   "outputs": [],
   "source": []
  },
  {
   "cell_type": "code",
   "execution_count": null,
   "id": "082ddf85-91a1-4c23-8f83-0e9e2a6ddcec",
   "metadata": {},
   "outputs": [],
   "source": []
  },
  {
   "cell_type": "code",
   "execution_count": null,
   "id": "cf462fe5-3bfa-4385-9fb3-22508d31f142",
   "metadata": {},
   "outputs": [],
   "source": []
  },
  {
   "cell_type": "code",
   "execution_count": null,
   "id": "231d42d1-1b9e-486c-aa0b-6582333211b5",
   "metadata": {},
   "outputs": [],
   "source": []
  },
  {
   "cell_type": "code",
   "execution_count": null,
   "id": "6f31025a-cf5d-43a7-b748-cb3a868d2220",
   "metadata": {},
   "outputs": [],
   "source": []
  },
  {
   "cell_type": "code",
   "execution_count": null,
   "id": "ceca14cf-3385-42b2-92e7-eef8031cc140",
   "metadata": {},
   "outputs": [],
   "source": []
  },
  {
   "cell_type": "code",
   "execution_count": null,
   "id": "1d37c508-b805-4ef8-aa0e-85b1e6bae3a0",
   "metadata": {},
   "outputs": [],
   "source": []
  },
  {
   "cell_type": "code",
   "execution_count": null,
   "id": "7df814a2-079a-4518-9815-58c082303737",
   "metadata": {},
   "outputs": [],
   "source": []
  },
  {
   "cell_type": "code",
   "execution_count": null,
   "id": "1fae806c-1d5c-41e0-b19b-a6ec89ccf701",
   "metadata": {},
   "outputs": [],
   "source": []
  },
  {
   "cell_type": "code",
   "execution_count": null,
   "id": "15c94cc1-bb34-4426-b8c0-f4f853e46264",
   "metadata": {},
   "outputs": [],
   "source": []
  },
  {
   "cell_type": "code",
   "execution_count": null,
   "id": "0c21549a-6e9a-4516-b82f-feee076187e5",
   "metadata": {},
   "outputs": [],
   "source": []
  }
 ],
 "metadata": {
  "kernelspec": {
   "display_name": "Python 3 (ipykernel)",
   "language": "python",
   "name": "python3"
  },
  "language_info": {
   "codemirror_mode": {
    "name": "ipython",
    "version": 3
   },
   "file_extension": ".py",
   "mimetype": "text/x-python",
   "name": "python",
   "nbconvert_exporter": "python",
   "pygments_lexer": "ipython3",
   "version": "3.8.5"
  }
 },
 "nbformat": 4,
 "nbformat_minor": 5
}
