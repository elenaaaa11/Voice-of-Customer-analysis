{
 "cells": [
  {
   "cell_type": "markdown",
   "id": "40e182ef-2701-4fb3-8815-a4b7df2519c5",
   "metadata": {},
   "source": [
    "## Import Libraries"
   ]
  },
  {
   "cell_type": "code",
   "execution_count": 1,
   "id": "af729865-6e0e-41f6-9406-2f5e78640562",
   "metadata": {},
   "outputs": [],
   "source": [
    "import numpy as np\n",
    "import pandas as pd\n",
    "import nltk\n",
    "import re\n",
    "import string"
   ]
  },
  {
   "cell_type": "code",
   "execution_count": 2,
   "id": "4cefa732-cdd6-43c2-81bc-475bd0225910",
   "metadata": {},
   "outputs": [
    {
     "name": "stderr",
     "output_type": "stream",
     "text": [
      "[nltk_data] Downloading package punkt to /Users/nnerella/nltk_data...\n",
      "[nltk_data]   Package punkt is already up-to-date!\n",
      "[nltk_data] Downloading package wordnet to\n",
      "[nltk_data]     /Users/nnerella/nltk_data...\n",
      "[nltk_data]   Package wordnet is already up-to-date!\n",
      "[nltk_data] Downloading package stopwords to\n",
      "[nltk_data]     /Users/nnerella/nltk_data...\n",
      "[nltk_data]   Package stopwords is already up-to-date!\n"
     ]
    },
    {
     "data": {
      "text/plain": [
       "True"
      ]
     },
     "execution_count": 2,
     "metadata": {},
     "output_type": "execute_result"
    }
   ],
   "source": [
    "from nltk.stem import WordNetLemmatizer\n",
    "from nltk import word_tokenize\n",
    "from nltk.corpus import stopwords\n",
    "nltk.download('punkt')\n",
    "nltk.download('wordnet')\n",
    "nltk.download('stopwords')\n",
    "\n"
   ]
  },
  {
   "cell_type": "code",
   "execution_count": 3,
   "id": "530144ae-6efe-4c4b-b985-071918f87190",
   "metadata": {},
   "outputs": [],
   "source": [
    "from sklearn.feature_extraction.text import TfidfVectorizer\n",
    "from sklearn.model_selection import train_test_split"
   ]
  },
  {
   "cell_type": "code",
   "execution_count": 4,
   "id": "f5763cf8-aae0-4562-8239-cfc3a7bd12be",
   "metadata": {},
   "outputs": [],
   "source": [
    "from imblearn.over_sampling import RandomOverSampler, SMOTE\n",
    "from sklearn.metrics import precision_score, recall_score, f1_score"
   ]
  },
  {
   "cell_type": "markdown",
   "id": "89553564-4c1f-4a9e-b6dc-1a62f4af0149",
   "metadata": {},
   "source": [
    "## Import Dataset"
   ]
  },
  {
   "cell_type": "code",
   "execution_count": 5,
   "id": "4fbed80c-0fe7-498a-b52d-c509bd8ff8bd",
   "metadata": {},
   "outputs": [],
   "source": [
    "reviews_csv = pd.read_csv('../../data/raw/reviews.csv')"
   ]
  },
  {
   "cell_type": "code",
   "execution_count": 6,
   "id": "cc38870d-f88a-41b3-801c-d33897034b11",
   "metadata": {},
   "outputs": [
    {
     "data": {
      "text/html": [
       "<div>\n",
       "<style scoped>\n",
       "    .dataframe tbody tr th:only-of-type {\n",
       "        vertical-align: middle;\n",
       "    }\n",
       "\n",
       "    .dataframe tbody tr th {\n",
       "        vertical-align: top;\n",
       "    }\n",
       "\n",
       "    .dataframe thead th {\n",
       "        text-align: right;\n",
       "    }\n",
       "</style>\n",
       "<table border=\"1\" class=\"dataframe\">\n",
       "  <thead>\n",
       "    <tr style=\"text-align: right;\">\n",
       "      <th></th>\n",
       "      <th>Sentiment</th>\n",
       "      <th>Time</th>\n",
       "      <th>Text</th>\n",
       "    </tr>\n",
       "  </thead>\n",
       "  <tbody>\n",
       "    <tr>\n",
       "      <th>0</th>\n",
       "      <td>positive</td>\n",
       "      <td>18/6/21</td>\n",
       "      <td>This is a very healthy dog food. Good for thei...</td>\n",
       "    </tr>\n",
       "    <tr>\n",
       "      <th>1</th>\n",
       "      <td>positive</td>\n",
       "      <td>7/7/21</td>\n",
       "      <td>I've been very pleased with the Natural Balanc...</td>\n",
       "    </tr>\n",
       "    <tr>\n",
       "      <th>2</th>\n",
       "      <td>positive</td>\n",
       "      <td>18/6/21</td>\n",
       "      <td>Before I was educated about feline nutrition, ...</td>\n",
       "    </tr>\n",
       "    <tr>\n",
       "      <th>3</th>\n",
       "      <td>positive</td>\n",
       "      <td>7/7/21</td>\n",
       "      <td>My holistic vet recommended this, along with a...</td>\n",
       "    </tr>\n",
       "    <tr>\n",
       "      <th>4</th>\n",
       "      <td>positive</td>\n",
       "      <td>1/7/21</td>\n",
       "      <td>I bought this coffee because its much cheaper ...</td>\n",
       "    </tr>\n",
       "  </tbody>\n",
       "</table>\n",
       "</div>"
      ],
      "text/plain": [
       "  Sentiment     Time                                               Text\n",
       "0  positive  18/6/21  This is a very healthy dog food. Good for thei...\n",
       "1  positive   7/7/21  I've been very pleased with the Natural Balanc...\n",
       "2  positive  18/6/21  Before I was educated about feline nutrition, ...\n",
       "3  positive   7/7/21  My holistic vet recommended this, along with a...\n",
       "4  positive   1/7/21  I bought this coffee because its much cheaper ..."
      ]
     },
     "execution_count": 6,
     "metadata": {},
     "output_type": "execute_result"
    }
   ],
   "source": [
    "reviews_csv.head()"
   ]
  },
  {
   "cell_type": "code",
   "execution_count": 7,
   "id": "fd6174a3-668d-4884-a636-70d741f8b600",
   "metadata": {},
   "outputs": [
    {
     "data": {
      "text/plain": [
       "Sentiment    0\n",
       "Time         0\n",
       "Text         0\n",
       "dtype: int64"
      ]
     },
     "execution_count": 7,
     "metadata": {},
     "output_type": "execute_result"
    }
   ],
   "source": [
    "reviews_csv.isnull().sum()"
   ]
  },
  {
   "cell_type": "code",
   "execution_count": 8,
   "id": "1a875f2d-6e22-4c3e-95d7-06ad89ec6d51",
   "metadata": {},
   "outputs": [
    {
     "data": {
      "text/plain": [
       "(5444, 3)"
      ]
     },
     "execution_count": 8,
     "metadata": {},
     "output_type": "execute_result"
    }
   ],
   "source": [
    "reviews_csv.shape"
   ]
  },
  {
   "cell_type": "code",
   "execution_count": 9,
   "id": "3b347366-6028-4a8a-92ee-744d4a437a64",
   "metadata": {},
   "outputs": [
    {
     "data": {
      "text/plain": [
       "positive    4030\n",
       "negative    1414\n",
       "Name: Sentiment, dtype: int64"
      ]
     },
     "execution_count": 9,
     "metadata": {},
     "output_type": "execute_result"
    }
   ],
   "source": [
    "reviews_csv['Sentiment'].value_counts()"
   ]
  },
  {
   "cell_type": "code",
   "execution_count": 10,
   "id": "57330468-669b-4003-a005-91b5e9f49c17",
   "metadata": {},
   "outputs": [
    {
     "data": {
      "text/html": [
       "<div>\n",
       "<style scoped>\n",
       "    .dataframe tbody tr th:only-of-type {\n",
       "        vertical-align: middle;\n",
       "    }\n",
       "\n",
       "    .dataframe tbody tr th {\n",
       "        vertical-align: top;\n",
       "    }\n",
       "\n",
       "    .dataframe thead th {\n",
       "        text-align: right;\n",
       "    }\n",
       "</style>\n",
       "<table border=\"1\" class=\"dataframe\">\n",
       "  <thead>\n",
       "    <tr style=\"text-align: right;\">\n",
       "      <th></th>\n",
       "      <th>Sentiment</th>\n",
       "      <th>Time</th>\n",
       "      <th>Text</th>\n",
       "      <th>length</th>\n",
       "    </tr>\n",
       "  </thead>\n",
       "  <tbody>\n",
       "    <tr>\n",
       "      <th>0</th>\n",
       "      <td>positive</td>\n",
       "      <td>18/6/21</td>\n",
       "      <td>This is a very healthy dog food. Good for thei...</td>\n",
       "      <td>137</td>\n",
       "    </tr>\n",
       "    <tr>\n",
       "      <th>1</th>\n",
       "      <td>positive</td>\n",
       "      <td>7/7/21</td>\n",
       "      <td>I've been very pleased with the Natural Balanc...</td>\n",
       "      <td>350</td>\n",
       "    </tr>\n",
       "    <tr>\n",
       "      <th>2</th>\n",
       "      <td>positive</td>\n",
       "      <td>18/6/21</td>\n",
       "      <td>Before I was educated about feline nutrition, ...</td>\n",
       "      <td>733</td>\n",
       "    </tr>\n",
       "    <tr>\n",
       "      <th>3</th>\n",
       "      <td>positive</td>\n",
       "      <td>7/7/21</td>\n",
       "      <td>My holistic vet recommended this, along with a...</td>\n",
       "      <td>493</td>\n",
       "    </tr>\n",
       "    <tr>\n",
       "      <th>4</th>\n",
       "      <td>positive</td>\n",
       "      <td>1/7/21</td>\n",
       "      <td>I bought this coffee because its much cheaper ...</td>\n",
       "      <td>413</td>\n",
       "    </tr>\n",
       "  </tbody>\n",
       "</table>\n",
       "</div>"
      ],
      "text/plain": [
       "  Sentiment     Time                                               Text  \\\n",
       "0  positive  18/6/21  This is a very healthy dog food. Good for thei...   \n",
       "1  positive   7/7/21  I've been very pleased with the Natural Balanc...   \n",
       "2  positive  18/6/21  Before I was educated about feline nutrition, ...   \n",
       "3  positive   7/7/21  My holistic vet recommended this, along with a...   \n",
       "4  positive   1/7/21  I bought this coffee because its much cheaper ...   \n",
       "\n",
       "   length  \n",
       "0     137  \n",
       "1     350  \n",
       "2     733  \n",
       "3     493  \n",
       "4     413  "
      ]
     },
     "execution_count": 10,
     "metadata": {},
     "output_type": "execute_result"
    }
   ],
   "source": [
    "reviews_csv['length'] = reviews_csv['Text'].apply(lambda x: len(x))\n",
    "reviews_csv.head()"
   ]
  },
  {
   "cell_type": "markdown",
   "id": "0efde201-decd-4337-b2c3-08a15b06bd45",
   "metadata": {},
   "source": [
    "## Pre-processing"
   ]
  },
  {
   "cell_type": "code",
   "execution_count": 11,
   "id": "ce060835-6bca-4346-8740-3604a95591a0",
   "metadata": {},
   "outputs": [],
   "source": [
    "# Function to convert text to lowercase\n",
    "def convert_to_lower(text):\n",
    "    return text.lower()\n",
    "\n",
    "# Removes html notation, such as <br/>\n",
    "def remove_html(text):\n",
    "    regex = r\"<[^>]+>\"\n",
    "    text_new = re.sub(regex, \" \", text)\n",
    "    return text_new\n",
    "\n",
    "# Function to remove numbers and other numeric values\n",
    "def remove_numbers(text):\n",
    "    number_pattern = r'\\d+'\n",
    "    without_number = re.sub(pattern=number_pattern, repl=\" \", string=text)\n",
    "    return without_number\n",
    "\n",
    "# Function to remove punctuation\n",
    "def remove_punctuation(text):\n",
    "    return text.translate(str.maketrans('', '', string.punctuation))\n",
    "\n",
    "# Function to remove stopwords\n",
    "def remove_stopwords(text):\n",
    "    removed = []\n",
    "    stop_words = list(stopwords.words(\"english\"))\n",
    "    tokens = word_tokenize(text)\n",
    "    for i in range(len(tokens)):\n",
    "        if tokens[i] not in stop_words:\n",
    "            removed.append(tokens[i])\n",
    "    return \" \".join(removed)\n",
    "\n",
    "# Function to remove extra white spaces\n",
    "def remove_extra_white_spaces(text):\n",
    "    single_char_pattern = r'\\s+[a-zA-Z]\\s+'\n",
    "    without_sc = re.sub(pattern=single_char_pattern, repl=\" \", string=text)\n",
    "    return without_sc\n",
    "\n",
    "# Function to Lemmatize\n",
    "def lemmatizing(text):\n",
    "    lemmatizer = WordNetLemmatizer()\n",
    "    tokens = word_tokenize(text)\n",
    "    for i in range(len(tokens)):\n",
    "        lemma_word = lemmatizer.lemmatize(tokens[i])\n",
    "        tokens[i] = lemma_word\n",
    "    return \" \".join(tokens)\n"
   ]
  },
  {
   "cell_type": "code",
   "execution_count": 12,
   "id": "73a11af7-91f7-4409-bff8-3bf33e838be0",
   "metadata": {},
   "outputs": [],
   "source": [
    "# pp_reviews is the new processed reviews \n",
    "pp_reviews = pd.DataFrame()\n",
    "pp_reviews['Text'] = reviews_csv['Text'].apply(lambda x: convert_to_lower(x))\n",
    "pp_reviews['Text'] = pp_reviews['Text'].apply(lambda x: remove_html(x))\n",
    "pp_reviews['Text'] = pp_reviews['Text'].apply(lambda x: remove_numbers(x))\n",
    "pp_reviews['Text'] = pp_reviews['Text'].apply(lambda x: remove_punctuation(x))\n",
    "pp_reviews['Text'] = pp_reviews['Text'].apply(lambda x: remove_stopwords(x))\n",
    "pp_reviews['Text'] = pp_reviews['Text'].apply(lambda x: remove_extra_white_spaces(x))\n",
    "pp_reviews['Text'] = pp_reviews['Text'].apply(lambda x: lemmatizing(x))"
   ]
  },
  {
   "cell_type": "code",
   "execution_count": 13,
   "id": "3beade5f-8cde-49f3-b5ff-74ca0c47d013",
   "metadata": {},
   "outputs": [
    {
     "data": {
      "text/html": [
       "<div>\n",
       "<style scoped>\n",
       "    .dataframe tbody tr th:only-of-type {\n",
       "        vertical-align: middle;\n",
       "    }\n",
       "\n",
       "    .dataframe tbody tr th {\n",
       "        vertical-align: top;\n",
       "    }\n",
       "\n",
       "    .dataframe thead th {\n",
       "        text-align: right;\n",
       "    }\n",
       "</style>\n",
       "<table border=\"1\" class=\"dataframe\">\n",
       "  <thead>\n",
       "    <tr style=\"text-align: right;\">\n",
       "      <th></th>\n",
       "      <th>Text</th>\n",
       "      <th>after_length</th>\n",
       "      <th>before_length</th>\n",
       "    </tr>\n",
       "  </thead>\n",
       "  <tbody>\n",
       "    <tr>\n",
       "      <th>0</th>\n",
       "      <td>healthy dog food good digestion also good smal...</td>\n",
       "      <td>92</td>\n",
       "      <td>137</td>\n",
       "    </tr>\n",
       "    <tr>\n",
       "      <th>1</th>\n",
       "      <td>ive pleased natural balance dog food dog issue...</td>\n",
       "      <td>223</td>\n",
       "      <td>350</td>\n",
       "    </tr>\n",
       "    <tr>\n",
       "      <th>2</th>\n",
       "      <td>educated feline nutrition allowed cat become a...</td>\n",
       "      <td>496</td>\n",
       "      <td>733</td>\n",
       "    </tr>\n",
       "    <tr>\n",
       "      <th>3</th>\n",
       "      <td>holistic vet recommended along brand tried cat...</td>\n",
       "      <td>276</td>\n",
       "      <td>493</td>\n",
       "    </tr>\n",
       "    <tr>\n",
       "      <th>4</th>\n",
       "      <td>bought coffee much cheaper ganocafe organic re...</td>\n",
       "      <td>223</td>\n",
       "      <td>413</td>\n",
       "    </tr>\n",
       "    <tr>\n",
       "      <th>...</th>\n",
       "      <td>...</td>\n",
       "      <td>...</td>\n",
       "      <td>...</td>\n",
       "    </tr>\n",
       "    <tr>\n",
       "      <th>5439</th>\n",
       "      <td>okay gift box like mediocre cheese summer saus...</td>\n",
       "      <td>154</td>\n",
       "      <td>275</td>\n",
       "    </tr>\n",
       "    <tr>\n",
       "      <th>5440</th>\n",
       "      <td>look llike walked raw deal item intolerably st...</td>\n",
       "      <td>975</td>\n",
       "      <td>1545</td>\n",
       "    </tr>\n",
       "    <tr>\n",
       "      <th>5441</th>\n",
       "      <td>thank god tasted metal swallowed dont even get...</td>\n",
       "      <td>72</td>\n",
       "      <td>139</td>\n",
       "    </tr>\n",
       "    <tr>\n",
       "      <th>5442</th>\n",
       "      <td>product good began buying lately terrible tast...</td>\n",
       "      <td>87</td>\n",
       "      <td>163</td>\n",
       "    </tr>\n",
       "    <tr>\n",
       "      <th>5443</th>\n",
       "      <td>paragon disappointed flavor hawaiian tropic si...</td>\n",
       "      <td>117</td>\n",
       "      <td>202</td>\n",
       "    </tr>\n",
       "  </tbody>\n",
       "</table>\n",
       "<p>5444 rows × 3 columns</p>\n",
       "</div>"
      ],
      "text/plain": [
       "                                                   Text  after_length  \\\n",
       "0     healthy dog food good digestion also good smal...            92   \n",
       "1     ive pleased natural balance dog food dog issue...           223   \n",
       "2     educated feline nutrition allowed cat become a...           496   \n",
       "3     holistic vet recommended along brand tried cat...           276   \n",
       "4     bought coffee much cheaper ganocafe organic re...           223   \n",
       "...                                                 ...           ...   \n",
       "5439  okay gift box like mediocre cheese summer saus...           154   \n",
       "5440  look llike walked raw deal item intolerably st...           975   \n",
       "5441  thank god tasted metal swallowed dont even get...            72   \n",
       "5442  product good began buying lately terrible tast...            87   \n",
       "5443  paragon disappointed flavor hawaiian tropic si...           117   \n",
       "\n",
       "      before_length  \n",
       "0               137  \n",
       "1               350  \n",
       "2               733  \n",
       "3               493  \n",
       "4               413  \n",
       "...             ...  \n",
       "5439            275  \n",
       "5440           1545  \n",
       "5441            139  \n",
       "5442            163  \n",
       "5443            202  \n",
       "\n",
       "[5444 rows x 3 columns]"
      ]
     },
     "execution_count": 13,
     "metadata": {},
     "output_type": "execute_result"
    }
   ],
   "source": [
    "pp_reviews['after_length'] = pp_reviews['Text'].apply(lambda x: len(x))\n",
    "pp_reviews['before_length'] = reviews_csv['length']\n",
    "pp_reviews"
   ]
  },
  {
   "cell_type": "code",
   "execution_count": 14,
   "id": "da61f577-d0ff-4ef3-8603-1be934d6715d",
   "metadata": {},
   "outputs": [
    {
     "data": {
      "text/html": [
       "<div>\n",
       "<style scoped>\n",
       "    .dataframe tbody tr th:only-of-type {\n",
       "        vertical-align: middle;\n",
       "    }\n",
       "\n",
       "    .dataframe tbody tr th {\n",
       "        vertical-align: top;\n",
       "    }\n",
       "\n",
       "    .dataframe thead th {\n",
       "        text-align: right;\n",
       "    }\n",
       "</style>\n",
       "<table border=\"1\" class=\"dataframe\">\n",
       "  <thead>\n",
       "    <tr style=\"text-align: right;\">\n",
       "      <th></th>\n",
       "      <th>Text</th>\n",
       "      <th>after_length</th>\n",
       "      <th>before_length</th>\n",
       "      <th>sentiment_label</th>\n",
       "    </tr>\n",
       "  </thead>\n",
       "  <tbody>\n",
       "    <tr>\n",
       "      <th>0</th>\n",
       "      <td>healthy dog food good digestion also good smal...</td>\n",
       "      <td>92</td>\n",
       "      <td>137</td>\n",
       "      <td>1</td>\n",
       "    </tr>\n",
       "    <tr>\n",
       "      <th>1</th>\n",
       "      <td>ive pleased natural balance dog food dog issue...</td>\n",
       "      <td>223</td>\n",
       "      <td>350</td>\n",
       "      <td>1</td>\n",
       "    </tr>\n",
       "    <tr>\n",
       "      <th>2</th>\n",
       "      <td>educated feline nutrition allowed cat become a...</td>\n",
       "      <td>496</td>\n",
       "      <td>733</td>\n",
       "      <td>1</td>\n",
       "    </tr>\n",
       "    <tr>\n",
       "      <th>3</th>\n",
       "      <td>holistic vet recommended along brand tried cat...</td>\n",
       "      <td>276</td>\n",
       "      <td>493</td>\n",
       "      <td>1</td>\n",
       "    </tr>\n",
       "    <tr>\n",
       "      <th>4</th>\n",
       "      <td>bought coffee much cheaper ganocafe organic re...</td>\n",
       "      <td>223</td>\n",
       "      <td>413</td>\n",
       "      <td>1</td>\n",
       "    </tr>\n",
       "  </tbody>\n",
       "</table>\n",
       "</div>"
      ],
      "text/plain": [
       "                                                Text  after_length  \\\n",
       "0  healthy dog food good digestion also good smal...            92   \n",
       "1  ive pleased natural balance dog food dog issue...           223   \n",
       "2  educated feline nutrition allowed cat become a...           496   \n",
       "3  holistic vet recommended along brand tried cat...           276   \n",
       "4  bought coffee much cheaper ganocafe organic re...           223   \n",
       "\n",
       "   before_length  sentiment_label  \n",
       "0            137                1  \n",
       "1            350                1  \n",
       "2            733                1  \n",
       "3            493                1  \n",
       "4            413                1  "
      ]
     },
     "execution_count": 14,
     "metadata": {},
     "output_type": "execute_result"
    }
   ],
   "source": [
    "# Convert positive label -> 1 and negative label -> 0\n",
    "label_map = {\n",
    "    'positive': 1,\n",
    "    'negative': 0,\n",
    "}\n",
    "pp_reviews['sentiment_label'] = reviews_csv['Sentiment'].map(label_map)\n",
    "pp_reviews.head()"
   ]
  },
  {
   "cell_type": "markdown",
   "id": "70e5bd81-a416-416e-b2ce-f1e8cb06416b",
   "metadata": {},
   "source": [
    "## Text Vectorization using TF-IDF"
   ]
  },
  {
   "cell_type": "code",
   "execution_count": 15,
   "id": "0bc60a36-79f8-4f9f-bb8c-30893373aaee",
   "metadata": {},
   "outputs": [],
   "source": [
    "# Use TfidfVectorizer to create a sparse matrix - numerical representation of the text strings \n",
    "tf_idf = TfidfVectorizer()\n",
    "tf_idf_matrix = tf_idf.fit_transform(pp_reviews['Text'])"
   ]
  },
  {
   "cell_type": "code",
   "execution_count": 16,
   "id": "43ac2fd4-ec6d-422b-b9fe-e8e0a386753e",
   "metadata": {},
   "outputs": [
    {
     "name": "stdout",
     "output_type": "stream",
     "text": [
      "[[0. 0. 0. ... 0. 0. 0.]\n",
      " [0. 0. 0. ... 0. 0. 0.]\n",
      " [0. 0. 0. ... 0. 0. 0.]\n",
      " ...\n",
      " [0. 0. 0. ... 0. 0. 0.]\n",
      " [0. 0. 0. ... 0. 0. 0.]\n",
      " [0. 0. 0. ... 0. 0. 0.]]\n"
     ]
    }
   ],
   "source": [
    "# Convert matrix to array\n",
    "tf_idf_array = tf_idf_matrix.toarray()\n",
    "print(tf_idf_array)"
   ]
  },
  {
   "cell_type": "code",
   "execution_count": 17,
   "id": "9f49cfe7-7be4-424b-927b-5d099a104b9a",
   "metadata": {},
   "outputs": [
    {
     "data": {
      "text/plain": [
       "(5444, 12603)"
      ]
     },
     "execution_count": 17,
     "metadata": {},
     "output_type": "execute_result"
    }
   ],
   "source": [
    "tf_idf_array.shape"
   ]
  },
  {
   "cell_type": "markdown",
   "id": "c1e7827b-c33e-4561-9305-daa7d9a0cad6",
   "metadata": {},
   "source": [
    "## Train-Test Split"
   ]
  },
  {
   "cell_type": "code",
   "execution_count": 18,
   "id": "414db797-2622-4a05-8acc-50e377abe154",
   "metadata": {},
   "outputs": [],
   "source": [
    "X_train, X_test, y_train, y_test = train_test_split(tf_idf_array, pp_reviews['sentiment_label'].values, test_size=0.3)"
   ]
  },
  {
   "cell_type": "markdown",
   "id": "64b6fa27-7d95-42c2-8000-387aa512ab60",
   "metadata": {},
   "source": [
    "## Model 1: Naive Baye's Classifier"
   ]
  },
  {
   "cell_type": "code",
   "execution_count": 19,
   "id": "8a8c491f-67ff-4de4-bd41-305f54ca1a7b",
   "metadata": {},
   "outputs": [
    {
     "name": "stdout",
     "output_type": "stream",
     "text": [
      "0.5624235006119951\n"
     ]
    }
   ],
   "source": [
    "from sklearn.naive_bayes import GaussianNB\n",
    "from sklearn.metrics import accuracy_score\n",
    "\n",
    "NB = GaussianNB()\n",
    "NB.fit(X_train, y_train)\n",
    "NB_pred= NB.predict(X_test)\n",
    "#print(NB_pred)\n",
    "\n",
    "print(accuracy_score(y_test, NB_pred))"
   ]
  },
  {
   "cell_type": "code",
   "execution_count": 20,
   "id": "3b87f217-c426-4fa7-8d86-87af00f0a77c",
   "metadata": {},
   "outputs": [
    {
     "data": {
      "text/plain": [
       "0.6483030004918838"
      ]
     },
     "execution_count": 20,
     "metadata": {},
     "output_type": "execute_result"
    }
   ],
   "source": [
    "f1_score(y_test,  NB_pred)"
   ]
  },
  {
   "cell_type": "code",
   "execution_count": 21,
   "id": "2c4630be-5f1c-438f-8910-054ca0355267",
   "metadata": {},
   "outputs": [
    {
     "data": {
      "text/plain": [
       "'recently fell love indian food papads quickly toasted hot oven healthy alternative potatoe chip excellent alone dipped chip dip thin bread cooked brittle crisp like potatoe chip however baked fried made chickpea flour little healthy potatoe chip'"
      ]
     },
     "execution_count": 21,
     "metadata": {},
     "output_type": "execute_result"
    }
   ],
   "source": [
    "pp_reviews['Text'][279]"
   ]
  },
  {
   "cell_type": "code",
   "execution_count": null,
   "id": "1ea1c86a-348b-4ee5-9eff-886f9c2c63d9",
   "metadata": {},
   "outputs": [],
   "source": []
  },
  {
   "cell_type": "code",
   "execution_count": 22,
   "id": "88ab7f05-cd29-4a30-b21f-1e1b89796aa7",
   "metadata": {},
   "outputs": [
    {
     "data": {
      "text/plain": [
       "'recently fell love indian food papads quickly toasted hot oven healthy alternative potatoe chip excellent alone dipped chip dip thin bread cooked brittle crisp like potatoe chip however baked fried made chickpea flour little healthy potatoe chip'"
      ]
     },
     "execution_count": 22,
     "metadata": {},
     "output_type": "execute_result"
    }
   ],
   "source": [
    "def remove_html2(text):\n",
    "    regex = r\"<[^>]+>\"\n",
    "    text_new = re.sub(regex, \"\", text)\n",
    "    return text_new\n",
    "\n",
    "remove_html2(pp_reviews['Text'][279])"
   ]
  },
  {
   "cell_type": "code",
   "execution_count": 23,
   "id": "ce76e753-6d70-42b8-a890-f88ee9edfdd4",
   "metadata": {},
   "outputs": [
    {
     "data": {
      "text/plain": [
       "'length min expiration date month day bought product tuna tomato combination delicious one many item reorder amazon every month edit added short video see combination look like wearing one headlamp didnt good job focusing tuna film doesnt look like many people view product anyway'"
      ]
     },
     "execution_count": 23,
     "metadata": {},
     "output_type": "execute_result"
    }
   ],
   "source": [
    "pp_reviews['Text'][327]"
   ]
  },
  {
   "cell_type": "code",
   "execution_count": 24,
   "id": "242f1799-a814-4e87-8558-6366abb340ba",
   "metadata": {},
   "outputs": [
    {
     "data": {
      "text/plain": [
       "'This is some  text  angular .'"
      ]
     },
     "execution_count": 24,
     "metadata": {},
     "output_type": "execute_result"
    }
   ],
   "source": [
    "text = \"This is some <example> text <with> angular <brackets>.\"\n",
    "remove_html2(text)"
   ]
  },
  {
   "cell_type": "code",
   "execution_count": 25,
   "id": "1bd37aca-e0e4-42f0-8162-a52550cd0300",
   "metadata": {},
   "outputs": [
    {
     "data": {
      "text/plain": [
       "'<span class=\"tiny\"> Length:: 0:26 Mins<br /><br /></span>The expiration date is 21 months from the day I bought this product. The tuna, tomato combination is delicious. This is one of the many items I re-order on Amazon every month or so.<br />edit: added a short video, so you see what this combination looks like.<br /><br />I was wearing one of those headlamps, but I didn\\'t do a good job focusing on the tuna.<br />I should film it over, but it doesn\\'t look like many people view this product anyway.'"
      ]
     },
     "execution_count": 25,
     "metadata": {},
     "output_type": "execute_result"
    }
   ],
   "source": [
    "reviews_csv['Text'][327]"
   ]
  },
  {
   "cell_type": "code",
   "execution_count": 26,
   "id": "91ab7c3b-3e95-4dc9-85e8-719a1b41fba5",
   "metadata": {},
   "outputs": [
    {
     "name": "stdout",
     "output_type": "stream",
     "text": [
      "0.565483476132191\n"
     ]
    }
   ],
   "source": [
    "#X_train, X_test, y_train, y_test = train_test_split(pp_reviews['text'], df['label'].values, test_size=0.30)\n",
    "#vectorizer = TfidfVectorizer()\n",
    "#vectorizer.fit(X_train)\n",
    "#X_train_tf = vectorizer.transform(X_train)\n",
    "#X_train_tf = X_train_tf.toarray()\n",
    "ROS = RandomOverSampler(sampling_strategy=1)\n",
    "X_train_ros, y_train_ros = ROS.fit_resample(X_train, y_train)\n",
    "nb = GaussianNB()\n",
    "nb.fit(X_train_ros, y_train_ros)\n",
    "y_preds = nb.predict(X_test)\n",
    "print(accuracy_score(y_test, y_preds))"
   ]
  },
  {
   "cell_type": "code",
   "execution_count": null,
   "id": "3902b1e0-c467-4535-8e4a-305cd364b5f2",
   "metadata": {},
   "outputs": [],
   "source": []
  },
  {
   "cell_type": "code",
   "execution_count": 27,
   "id": "25edc07e-9a54-4a8a-8b12-d040dcb98172",
   "metadata": {},
   "outputs": [
    {
     "data": {
      "text/plain": [
       "0.6516192345436702"
      ]
     },
     "execution_count": 27,
     "metadata": {},
     "output_type": "execute_result"
    }
   ],
   "source": [
    "f1_score(y_test, y_preds)"
   ]
  },
  {
   "cell_type": "code",
   "execution_count": 30,
   "id": "b7a3154a-e1ab-4f60-8b56-48120ef108ba",
   "metadata": {},
   "outputs": [
    {
     "data": {
      "text/plain": [
       "Counter({1: 2818, 0: 2818})"
      ]
     },
     "execution_count": 30,
     "metadata": {},
     "output_type": "execute_result"
    }
   ],
   "source": [
    "from collections import Counter\n",
    "Counter(y_train_ros)"
   ]
  },
  {
   "cell_type": "code",
   "execution_count": 31,
   "id": "480a7d76-35e9-41d7-bf27-cf98197d5fd9",
   "metadata": {},
   "outputs": [
    {
     "data": {
      "text/plain": [
       "Counter({1: 2818, 0: 992})"
      ]
     },
     "execution_count": 31,
     "metadata": {},
     "output_type": "execute_result"
    }
   ],
   "source": [
    "Counter(y_train)"
   ]
  },
  {
   "cell_type": "code",
   "execution_count": null,
   "id": "d03d1793-123e-4e2f-a22c-983fa2745451",
   "metadata": {},
   "outputs": [],
   "source": []
  }
 ],
 "metadata": {
  "kernelspec": {
   "display_name": "voc_venv",
   "language": "python",
   "name": "voc_venv"
  },
  "language_info": {
   "codemirror_mode": {
    "name": "ipython",
    "version": 3
   },
   "file_extension": ".py",
   "mimetype": "text/x-python",
   "name": "python",
   "nbconvert_exporter": "python",
   "pygments_lexer": "ipython3",
   "version": "3.9.7"
  }
 },
 "nbformat": 4,
 "nbformat_minor": 5
}
